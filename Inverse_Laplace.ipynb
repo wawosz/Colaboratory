{
  "nbformat": 4,
  "nbformat_minor": 0,
  "metadata": {
    "kernelspec": {
      "display_name": "Python 3",
      "language": "python",
      "name": "python3"
    },
    "language_info": {
      "codemirror_mode": {
        "name": "ipython",
        "version": 3
      },
      "file_extension": ".py",
      "mimetype": "text/x-python",
      "name": "python",
      "nbconvert_exporter": "python",
      "pygments_lexer": "ipython3",
      "version": "3.6.7"
    },
    "colab": {
      "name": "Inverse Laplace.ipynb",
      "provenance": [],
      "include_colab_link": true
    }
  },
  "cells": [
    {
      "cell_type": "markdown",
      "metadata": {
        "id": "view-in-github",
        "colab_type": "text"
      },
      "source": [
        "<a href=\"https://colab.research.google.com/github/wawosz/Colaboratory/blob/main/Inverse_Laplace.ipynb\" target=\"_parent\"><img src=\"https://colab.research.google.com/assets/colab-badge.svg\" alt=\"Open In Colab\"/></a>"
      ]
    },
    {
      "cell_type": "markdown",
      "metadata": {
        "id": "xLKUaXVVJ0b-"
      },
      "source": [
        "## Partial fraction decomposition and inverse Laplace Transform\n",
        "\n",
        "(C) 2019 by Wawrzyniec L. Dobrucki, Ph.D."
      ]
    },
    {
      "cell_type": "markdown",
      "metadata": {
        "id": "UsN29gbJJ0b_"
      },
      "source": [
        "#### Calculation example   \n",
        "Find the transfer function of the system described by the following ODE:   \n",
        "\n",
        "$3\\dfrac{\\delta^2y}{\\delta t^2} + \\dfrac{\\delta y}{\\delta t} = 4x(t)$"
      ]
    },
    {
      "cell_type": "markdown",
      "metadata": {
        "id": "8scqsBa4J0cB"
      },
      "source": [
        "#### Solution   \n",
        "First step requires converting the ODE to frequency domain with _Laplace_ Transform to get:   \n",
        "\n",
        "$3S^2Y(S) + SY(S) = 4X(S)$   \n",
        "\n",
        "$Y(S) (3S^2 + S) = 4X(S)$   \n",
        "\n",
        "Finally, the transfer function $H(S)$ is defined as:   \n",
        "\n",
        "$H(S) = \\dfrac{Y(S)}{X(S)} = \\dfrac{4}{3S^2 + S}$"
      ]
    },
    {
      "cell_type": "markdown",
      "metadata": {
        "id": "FoHKy39HJ0cC"
      },
      "source": [
        "#### Other considerations   \n",
        "Let's discuss this result further and calculate system's output in time domain $y(t)$.   \n",
        "From the example above, we know that system's output in frequency domain is:   \n",
        "\n",
        "$Y(S) = \\dfrac{4}{3S^2 + S} X(S)$   \n",
        "\n",
        "To convert $Y(S)$ to $y(t)$, we need to use inverse _Laplace_ transform. Traditionally, printed tables of _Laplace_ Transform were used. First, we should first perform *partial fraction expansion* and represent $Y(S)$ as a sum of terms that appear in standard tables. We can perform the partial fraction expansion (or decomposition) using _sympy_ module in Python:"
      ]
    },
    {
      "cell_type": "code",
      "metadata": {
        "id": "B_8K7o3jJ0cC"
      },
      "source": [
        "# standard imports\n",
        "from sympy import *\n",
        "import matplotlib.pyplot as plt\n",
        "init_printing()   # print results as LaTeX"
      ],
      "execution_count": null,
      "outputs": []
    },
    {
      "cell_type": "code",
      "metadata": {
        "id": "wlbaQjD5J0cD"
      },
      "source": [
        "# define symbols and the function (transfer function H(S))\n",
        "s = Symbol('s', real=False)\n",
        "t = Symbol('t', positive=True)\n",
        "#s = Symbol('s')\n",
        "#t = Symbol('t')\n",
        "transfer_fnc = 4/(3*s**2 + s)"
      ],
      "execution_count": null,
      "outputs": []
    },
    {
      "cell_type": "code",
      "metadata": {
        "colab": {
          "base_uri": "https://localhost:8080/",
          "height": 52
        },
        "id": "3hx8PXZLJ0cD",
        "outputId": "e39a27e7-c32a-4c98-db2c-4d944606db6d"
      },
      "source": [
        "# let's print the transfer function as formatted equation\n",
        "transfer_fnc"
      ],
      "execution_count": null,
      "outputs": [
        {
          "output_type": "execute_result",
          "data": {
            "image/png": "[encoded data removed]",
            "text/latex": "$\\displaystyle \\frac{4}{3 s^{2} + s}$",
            "text/plain": [
              "   4    \n",
              "────────\n",
              "   2    \n",
              "3⋅s  + s"
            ]
          },
          "metadata": {
            "tags": []
          },
          "execution_count": 59
        }
      ]
    },
    {
      "cell_type": "code",
      "metadata": {
        "colab": {
          "base_uri": "https://localhost:8080/",
          "height": 52
        },
        "id": "k_uPJMgOJ0cE",
        "outputId": "fdd81341-bc35-4a5b-f7ec-9f34f18c0eff"
      },
      "source": [
        "# partial fraction decomposition is done using (apart)\n",
        "apart(transfer_fnc)"
      ],
      "execution_count": null,
      "outputs": [
        {
          "output_type": "execute_result",
          "data": {
            "image/png": "[encoded data removed]",
            "text/latex": "$\\displaystyle - \\frac{12}{3 s + 1} + \\frac{4}{s}$",
            "text/plain": [
              "     12     4\n",
              "- ─────── + ─\n",
              "  3⋅s + 1   s"
            ]
          },
          "metadata": {
            "tags": []
          },
          "execution_count": 60
        }
      ]
    },
    {
      "cell_type": "markdown",
      "metadata": {
        "id": "HkJZu2peJ0cF"
      },
      "source": [
        "In the tables of _Laplace_ Transform, we can find the solutions for the terms above. Therefore:   \n",
        "\n",
        "$y(t) = 4(1 - e^{-t/3})$"
      ]
    },
    {
      "cell_type": "markdown",
      "metadata": {
        "id": "dR5halNoJ0cF"
      },
      "source": [
        "Alternatively, we can use *inverse_laplace_transform* function to directly calculate $y(t)$:"
      ]
    },
    {
      "cell_type": "code",
      "metadata": {
        "id": "umLUPOyRJ0cG"
      },
      "source": [
        "output = inverse_laplace_transform(transfer_fnc, s, t)"
      ],
      "execution_count": null,
      "outputs": []
    },
    {
      "cell_type": "code",
      "metadata": {
        "colab": {
          "base_uri": "https://localhost:8080/",
          "height": 66
        },
        "id": "xb0LKubdJ0cG",
        "outputId": "293f243f-9b8c-44eb-dcce-7eeb4feb01a0"
      },
      "source": [
        "simplify(output)"
      ],
      "execution_count": null,
      "outputs": [
        {
          "output_type": "execute_result",
          "data": {
            "image/png": "[encoded data removed]",
            "text/latex": "$\\displaystyle \\frac{2 \\sqrt{3} \\left(3 e^{\\frac{t}{3}} \\Gamma\\left(\\frac{2}{3}\\right) + \\Gamma\\left(- \\frac{1}{3}\\right)\\right) e^{- \\frac{t}{3}} \\Gamma\\left(\\frac{1}{3}\\right)}{3 \\pi}$",
            "text/plain": [
              "     ⎛   t                 ⎞  -t        \n",
              "     ⎜   ─                 ⎟  ───       \n",
              "     ⎜   3                 ⎟   3        \n",
              "2⋅√3⋅⎝3⋅ℯ ⋅Γ(2/3) + Γ(-1/3)⎠⋅ℯ   ⋅Γ(1/3)\n",
              "────────────────────────────────────────\n",
              "                  3⋅π                   "
            ]
          },
          "metadata": {
            "tags": []
          },
          "execution_count": 62
        }
      ]
    },
    {
      "cell_type": "markdown",
      "metadata": {
        "id": "NOXIcWTBJ0cH"
      },
      "source": [
        "Finally, let's print the system's response $y(t)$:"
      ]
    },
    {
      "cell_type": "code",
      "metadata": {
        "colab": {
          "base_uri": "https://localhost:8080/",
          "height": 282
        },
        "id": "TXPIZtQlJ0cH",
        "outputId": "3b66842f-0764-4ffa-871f-ffcecbce75eb"
      },
      "source": [
        "import numpy as np\n",
        "t = np.linspace (0, 20, 100)\n",
        "output = 4-4*np.e**(-t/3)\n",
        "plt.plot(t, output)"
      ],
      "execution_count": null,
      "outputs": [
        {
          "output_type": "execute_result",
          "data": {
            "text/plain": [
              "[<matplotlib.lines.Line2D at 0x7f224b1d6750>]"
            ]
          },
          "metadata": {
            "tags": []
          },
          "execution_count": 63
        },
        {
          "output_type": "display_data",
          "data": {
            "image/png": "[encoded data removed]",
            "text/plain": [
              "<Figure size 432x288 with 1 Axes>"
            ]
          },
          "metadata": {
            "tags": [],
            "needs_background": "light"
          }
        }
      ]
    },
    {
      "cell_type": "code",
      "metadata": {
        "id": "B1KODXxnJ0cI"
      },
      "source": [
        ""
      ],
      "execution_count": null,
      "outputs": []
    }
  ]
}