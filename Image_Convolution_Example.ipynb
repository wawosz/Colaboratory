{
  "nbformat": 4,
  "nbformat_minor": 0,
  "metadata": {
    "colab": {
      "name": "Image Convolution Example from lecture.ipynb",
      "provenance": [],
      "authorship_tag": "ABX9TyOlEld1R9Nl8ovq3a3HhuCt",
      "include_colab_link": true
    },
    "kernelspec": {
      "name": "python3",
      "display_name": "Python 3"
    }
  },
  "cells": [
    {
      "cell_type": "markdown",
      "metadata": {
        "id": "view-in-github",
        "colab_type": "text"
      },
      "source": [
        "<a href=\"https://colab.research.google.com/github/wawosz/Colaboratory/blob/main/Image_Convolution_Example.ipynb\" target=\"_parent\"><img src=\"https://colab.research.google.com/assets/colab-badge.svg\" alt=\"Open In Colab\"/></a>"
      ]
    },
    {
      "cell_type": "markdown",
      "metadata": {
        "id": "BcTS_EuGgmhc"
      },
      "source": [
        "# Image Convolution Example\n",
        "Image convolution can be described as a process to determine the value of a central pixel by adding the weighted values of all its neighbors together.\n",
        "\\begin{equation}\n",
        "  V = \\Bigg| \\dfrac{\\sum\\limits_{i=1}\\Big(\\sum\\limits_{j=1} f_{ij}d_{ij}\\Big)}{F}\\Bigg|\n",
        "\\end{equation}\n",
        "\n",
        "where:\n",
        "- **V** is the output pixel value (if **V** is less than 0, then **V** = 0)\n",
        "- **F** is the sum of the coefficients of the kernel (if **F** is zero, then **F** = 1)\n",
        "- $f_{ij}$ is the coefficient of a convolution kernel at position $(i,j)$ in the kernel\n",
        "- $d_{ij}$ is the data value of the pixel that corresponds to $f_{ij}$   "
      ]
    },
    {
      "cell_type": "code",
      "metadata": {
        "id": "EGkdk6vsjvwv"
      },
      "source": [
        ""
      ],
      "execution_count": null,
      "outputs": []
    },
    {
      "cell_type": "markdown",
      "metadata": {
        "id": "hKMuo7Oxj4oo"
      },
      "source": [
        "Let's consider two arrays: original $3\\times3$ image matrix and $3\\times3$ kernel:"
      ]
    },
    {
      "cell_type": "code",
      "metadata": {
        "id": "KmQIkLHBkGjc",
        "colab": {
          "base_uri": "https://localhost:8080/",
          "height": 289
        },
        "outputId": "07cc63b5-5550-472e-b244-0acc8fc9f48e"
      },
      "source": [
        "# standard imports\n",
        "import numpy as np\n",
        "import matplotlib.pyplot as plt\n",
        "from tabulate import tabulate\n",
        "\n",
        "image = np.array([[186,190,183],[176,175,179],[144,139,128]])\n",
        "kernel = np.array([[1,2,1],[2,4,2],[1,2,1]])\n",
        "print('Image array')\n",
        "print(tabulate(image,tablefmt=\"grid\"))\n",
        "print('Kernel array')\n",
        "print(tabulate(kernel,tablefmt=\"grid\"))"
      ],
      "execution_count": null,
      "outputs": [
        {
          "output_type": "stream",
          "text": [
            "Image array\n",
            "+-----+-----+-----+\n",
            "| 186 | 190 | 183 |\n",
            "+-----+-----+-----+\n",
            "| 176 | 175 | 179 |\n",
            "+-----+-----+-----+\n",
            "| 144 | 139 | 128 |\n",
            "+-----+-----+-----+\n",
            "Kernel array\n",
            "+---+---+---+\n",
            "| 1 | 2 | 1 |\n",
            "+---+---+---+\n",
            "| 2 | 4 | 2 |\n",
            "+---+---+---+\n",
            "| 1 | 2 | 1 |\n",
            "+---+---+---+\n"
          ],
          "name": "stdout"
        }
      ]
    },
    {
      "cell_type": "code",
      "metadata": {
        "id": "O6QXPb2opRAM"
      },
      "source": [
        ""
      ],
      "execution_count": null,
      "outputs": []
    },
    {
      "cell_type": "markdown",
      "metadata": {
        "id": "J5U8AZ3ZrNWW"
      },
      "source": [
        "Now, let's calculate the value for central pixel of value 175 after convolution with a kernel\n",
        "\n",
        "\\begin{equation}\n",
        "  V = \\dfrac{186*1 + 190*2 + 183*1 + 176*2 + 175*4 + 179*2 + 144*1 + 139*2 + 128*1}{16} \\\\\n",
        "  V = \\dfrac{2709}{16} = 169.3125 \\approx 169\n",
        "\\end{equation}"
      ]
    },
    {
      "cell_type": "code",
      "metadata": {
        "id": "WTM4Y9EfsDs9"
      },
      "source": [
        ""
      ],
      "execution_count": null,
      "outputs": []
    }
  ]
}